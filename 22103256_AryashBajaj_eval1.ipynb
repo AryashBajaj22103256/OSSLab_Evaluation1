{
 "cells": [
  {
   "cell_type": "code",
   "execution_count": 7,
   "id": "20cf4943",
   "metadata": {},
   "outputs": [
    {
     "name": "stdout",
     "output_type": "stream",
     "text": [
      "Aryash Bajaj 22103256\n",
      "Open Source Lab - Evaluation 1\n",
      "Odd set - Computer - C13\n"
     ]
    }
   ],
   "source": [
    "print(f'Aryash Bajaj 22103256')\n",
    "print(f'Open Source Lab - Evaluation 1')\n",
    "print(f'Odd set - Computer - C13')"
   ]
  },
  {
   "cell_type": "code",
   "execution_count": 49,
   "id": "3528100c",
   "metadata": {},
   "outputs": [
    {
     "name": "stdout",
     "output_type": "stream",
     "text": [
      "Enter phone number - 123abc\n",
      "Please reenter phone number. Incorrect formatting or data.\n",
      "Enter phone number - 123456789\n",
      "Please reenter phone number. Incorrect formatting or data.\n",
      "Enter phone number - 1234567890\n",
      "Enter name of contact - \n",
      "Please enter a name - \n",
      "Enter name of contact - Aryash\n",
      "Enter optional email - \n",
      "Enter phone number - 1234567890\n",
      "Enter name of contact - Ritvish\n",
      "Enter optional email - abcd@gaask\n",
      "Enter valid email address\n",
      "Enter optional email - abc@gmail.com\n",
      "Enter phone number - 1234567890\n",
      "Enter name of contact - Abhay\n",
      "Enter optional email - abhay@gmail.com\n",
      "Contacts - \n",
      "Name - Aryash, Number - 1234567890, Email - \n",
      "Name - Ritvish, Number - 1234567890, Email - abc@gmail.com\n",
      "Name - Abhay, Number - 1234567890, Email - abhay@gmail.com\n",
      "Enter name to update - Aryash\n",
      "Old details - Number - 1234567890, Email - \n",
      "Enter phone number - aryash@gmail.com\n",
      "Please reenter phone number. Incorrect formatting or data.\n",
      "Enter phone number - 1234567812\n",
      "Enter optional email - aryash@gmail.com\n",
      "Contact updated for Aryash succesfully!\n",
      "Contacts - \n",
      "Name - Aryash, Number - 1234567812, Email - aryash@gmail.com\n",
      "Name - Ritvish, Number - 1234567890, Email - abc@gmail.com\n",
      "Name - Abhay, Number - 1234567890, Email - abhay@gmail.com\n",
      "Name - Aryash, Number - 1234567812, Email - aryash@gmail.com\n",
      "Name - Abhay, Number - 1234567890, Email - abhay@gmail.com\n",
      "None\n",
      "None\n"
     ]
    }
   ],
   "source": [
    "class contactManager :\n",
    "    def __init__(self) :\n",
    "        self.contacts = {}\n",
    "        \n",
    "    def AddContact(self) :\n",
    "        while (True) :\n",
    "            number = input(\"Enter phone number - \") or \"\"\n",
    "            if number.isnumeric() and len(number) == 10 :\n",
    "                break\n",
    "            else :\n",
    "                print(\"Please reenter phone number. Incorrect formatting or data.\")\n",
    "        while (True) :\n",
    "            name = input(\"Enter name of contact - \") or \"\"\n",
    "            if name != \"\" :\n",
    "                break\n",
    "            else :\n",
    "                print(\"Please enter a name - \")\n",
    "        while (True) :\n",
    "            email = input(\"Enter optional email - \") or \"\"\n",
    "            if email != \"\" and not email.endswith(\"@gmail.com\") :\n",
    "                print(\"Enter valid email address\")\n",
    "            else :\n",
    "                break\n",
    "        self.contacts[name] = [number, email]\n",
    "        \n",
    "    def updateContact(self) :\n",
    "        name = input(\"Enter name to update - \")\n",
    "        if name not in self.contacts :\n",
    "            print(\"Name not in contacts. No entry found to update.\")\n",
    "            return\n",
    "        print(f'Old details - Number - {self.contacts[name][0]}, Email - {self.contacts[name][1]}')\n",
    "        while (True) :\n",
    "            number = input(\"Enter phone number - \") or \"\"\n",
    "            if number.isnumeric() and len(number) == 10 :\n",
    "                break\n",
    "            else :\n",
    "                print(\"Please reenter phone number. Incorrect formatting or data.\")\n",
    "        while (True) :\n",
    "            email = input(\"Enter optional email - \") or \"\"\n",
    "            if email != \"\" and not email.endswith(\"@gmail.com\") :\n",
    "                print(\"Enter valid email address\")\n",
    "            else :\n",
    "                break\n",
    "        self.contacts[name][0] = number\n",
    "        self.contacts[name][1] = email\n",
    "        print(f'Contact updated for {name} succesfully!')\n",
    "            \n",
    "    def deleteContact(self, name) :\n",
    "        if name in self.contacts :\n",
    "            del self.contacts[name]\n",
    "            \n",
    "    def listAll(self) :\n",
    "        print(f'Contacts - ')\n",
    "        for name, (number, email) in self.contacts.items() :\n",
    "            print(f'Name - {name}, Number - {number}, Email - {email}')\n",
    "    \n",
    "    def searchByName(self, name) :\n",
    "        if name in self.contacts :\n",
    "            return (name, self.contacts[name][0], self.contacts[name][1])\n",
    "    def searchByEmail(self, Email) :\n",
    "        for name, (number, email) in self.contacts.items() :\n",
    "            if email == Email :\n",
    "                return (name, number, email)\n",
    "        \n",
    "    def listByLetter(self, char) :\n",
    "        for name, (number, email) in self.contacts.items() :\n",
    "            if name[0].lower() == char.lower() :\n",
    "                print(f'Name - {name}, Number - {number}, Email - {email}')\n",
    "                \n",
    "cm = contactManager()\n",
    "cm.AddContact()\n",
    "cm.AddContact()\n",
    "cm.AddContact()\n",
    "cm.listAll()\n",
    "cm.updateContact()\n",
    "cm.listAll()\n",
    "cm.listByLetter('a')\n",
    "print(cm.searchByName('bc'))\n",
    "print(cm.searchByEmail('ab@gmail.com'))"
   ]
  },
  {
   "cell_type": "code",
   "execution_count": 50,
   "id": "aad96ab8",
   "metadata": {},
   "outputs": [
    {
     "name": "stdout",
     "output_type": "stream",
     "text": [
      "Contacts - \n",
      "Name - Aryash, Number - 1234567812, Email - aryash@gmail.com\n",
      "Name - Ritvish, Number - 1234567890, Email - abc@gmail.com\n"
     ]
    }
   ],
   "source": [
    "cm.deleteContact('Abhay')\n",
    "cm.listAll()"
   ]
  },
  {
   "cell_type": "code",
   "execution_count": null,
   "id": "b89e998f",
   "metadata": {},
   "outputs": [],
   "source": []
  }
 ],
 "metadata": {
  "kernelspec": {
   "display_name": "Python 3 (ipykernel)",
   "language": "python",
   "name": "python3"
  },
  "language_info": {
   "codemirror_mode": {
    "name": "ipython",
    "version": 3
   },
   "file_extension": ".py",
   "mimetype": "text/x-python",
   "name": "python",
   "nbconvert_exporter": "python",
   "pygments_lexer": "ipython3",
   "version": "3.11.5"
  }
 },
 "nbformat": 4,
 "nbformat_minor": 5
}
